{
 "cells": [
  {
   "cell_type": "code",
   "execution_count": 1,
   "metadata": {},
   "outputs": [],
   "source": [
    "import pandas as pd\n",
    "import json\n",
    "import matplotlib.pyplot as plt"
   ]
  },
  {
   "cell_type": "code",
   "execution_count": 2,
   "metadata": {},
   "outputs": [
    {
     "name": "stdout",
     "output_type": "stream",
     "text": [
      "Average turns for 8 tiles:  19.113636363636363\n"
     ]
    },
    {
     "data": {
      "text/html": [
       "<div>\n",
       "<style scoped>\n",
       "    .dataframe tbody tr th:only-of-type {\n",
       "        vertical-align: middle;\n",
       "    }\n",
       "\n",
       "    .dataframe tbody tr th {\n",
       "        vertical-align: top;\n",
       "    }\n",
       "\n",
       "    .dataframe thead th {\n",
       "        text-align: right;\n",
       "    }\n",
       "</style>\n",
       "<table border=\"1\" class=\"dataframe\">\n",
       "  <thead>\n",
       "    <tr style=\"text-align: right;\">\n",
       "      <th></th>\n",
       "      <th>total_turns</th>\n",
       "      <th>R</th>\n",
       "      <th>B</th>\n",
       "      <th>C</th>\n",
       "      <th>A</th>\n",
       "      <th>codemaster</th>\n",
       "      <th>guesser</th>\n",
       "      <th>seed</th>\n",
       "      <th>time_s</th>\n",
       "    </tr>\n",
       "  </thead>\n",
       "  <tbody>\n",
       "    <tr>\n",
       "      <th>0</th>\n",
       "      <td>25</td>\n",
       "      <td>2</td>\n",
       "      <td>0</td>\n",
       "      <td>0</td>\n",
       "      <td>1</td>\n",
       "      <td>codemaster_wn_lin.AICodemaster</td>\n",
       "      <td>guesser_w2vglove.AIGuesser</td>\n",
       "      <td>1.653947e+09</td>\n",
       "      <td>1.653947e+09</td>\n",
       "    </tr>\n",
       "    <tr>\n",
       "      <th>1</th>\n",
       "      <td>8</td>\n",
       "      <td>8</td>\n",
       "      <td>0</td>\n",
       "      <td>0</td>\n",
       "      <td>0</td>\n",
       "      <td>codemaster_w2vglove_05.AICodemaster</td>\n",
       "      <td>guesser_glove.AIGuesser</td>\n",
       "      <td>1.653947e+09</td>\n",
       "      <td>1.653947e+09</td>\n",
       "    </tr>\n",
       "    <tr>\n",
       "      <th>2</th>\n",
       "      <td>8</td>\n",
       "      <td>8</td>\n",
       "      <td>0</td>\n",
       "      <td>0</td>\n",
       "      <td>0</td>\n",
       "      <td>codemaster_glove_05.AICodemaster</td>\n",
       "      <td>vector_guesser.VectorGuesser</td>\n",
       "      <td>1.653947e+09</td>\n",
       "      <td>1.653947e+09</td>\n",
       "    </tr>\n",
       "    <tr>\n",
       "      <th>3</th>\n",
       "      <td>8</td>\n",
       "      <td>8</td>\n",
       "      <td>0</td>\n",
       "      <td>0</td>\n",
       "      <td>0</td>\n",
       "      <td>codemaster_wn_lin.AICodemaster</td>\n",
       "      <td>guesser_wn_jcn.AIGuesser</td>\n",
       "      <td>1.653947e+09</td>\n",
       "      <td>1.653947e+09</td>\n",
       "    </tr>\n",
       "    <tr>\n",
       "      <th>4</th>\n",
       "      <td>25</td>\n",
       "      <td>7</td>\n",
       "      <td>6</td>\n",
       "      <td>9</td>\n",
       "      <td>1</td>\n",
       "      <td>codemaster_glove_05.AICodemaster</td>\n",
       "      <td>guesser_wn_jcn.AIGuesser</td>\n",
       "      <td>1.653947e+09</td>\n",
       "      <td>1.653947e+09</td>\n",
       "    </tr>\n",
       "    <tr>\n",
       "      <th>...</th>\n",
       "      <td>...</td>\n",
       "      <td>...</td>\n",
       "      <td>...</td>\n",
       "      <td>...</td>\n",
       "      <td>...</td>\n",
       "      <td>...</td>\n",
       "      <td>...</td>\n",
       "      <td>...</td>\n",
       "      <td>...</td>\n",
       "    </tr>\n",
       "    <tr>\n",
       "      <th>127</th>\n",
       "      <td>25</td>\n",
       "      <td>5</td>\n",
       "      <td>4</td>\n",
       "      <td>8</td>\n",
       "      <td>1</td>\n",
       "      <td>codemaster_random.AICodemaster</td>\n",
       "      <td>vector_guesser.VectorGuesser</td>\n",
       "      <td>1.653970e+09</td>\n",
       "      <td>1.653970e+09</td>\n",
       "    </tr>\n",
       "    <tr>\n",
       "      <th>128</th>\n",
       "      <td>25</td>\n",
       "      <td>4</td>\n",
       "      <td>2</td>\n",
       "      <td>3</td>\n",
       "      <td>1</td>\n",
       "      <td>codemaster_w2vglove_05.AICodemaster</td>\n",
       "      <td>guesser_wn_wup.AIGuesser</td>\n",
       "      <td>1.653970e+09</td>\n",
       "      <td>1.653970e+09</td>\n",
       "    </tr>\n",
       "    <tr>\n",
       "      <th>129</th>\n",
       "      <td>25</td>\n",
       "      <td>6</td>\n",
       "      <td>3</td>\n",
       "      <td>3</td>\n",
       "      <td>1</td>\n",
       "      <td>codemaster_w2v_05.AICodemaster</td>\n",
       "      <td>guesser_wn_lch.AIGuesser</td>\n",
       "      <td>1.653972e+09</td>\n",
       "      <td>1.653972e+09</td>\n",
       "    </tr>\n",
       "    <tr>\n",
       "      <th>130</th>\n",
       "      <td>25</td>\n",
       "      <td>5</td>\n",
       "      <td>4</td>\n",
       "      <td>7</td>\n",
       "      <td>1</td>\n",
       "      <td>codemaster_random.AICodemaster</td>\n",
       "      <td>guesser_wn_lin.AIGuesser</td>\n",
       "      <td>1.653972e+09</td>\n",
       "      <td>1.653972e+09</td>\n",
       "    </tr>\n",
       "    <tr>\n",
       "      <th>131</th>\n",
       "      <td>25</td>\n",
       "      <td>6</td>\n",
       "      <td>4</td>\n",
       "      <td>6</td>\n",
       "      <td>1</td>\n",
       "      <td>codemaster_w2v_05.AICodemaster</td>\n",
       "      <td>guesser_wn_res.AIGuesser</td>\n",
       "      <td>1.653972e+09</td>\n",
       "      <td>1.653972e+09</td>\n",
       "    </tr>\n",
       "  </tbody>\n",
       "</table>\n",
       "<p>132 rows × 9 columns</p>\n",
       "</div>"
      ],
      "text/plain": [
       "     total_turns  R  B  C  A                           codemaster  \\\n",
       "0             25  2  0  0  1       codemaster_wn_lin.AICodemaster   \n",
       "1              8  8  0  0  0  codemaster_w2vglove_05.AICodemaster   \n",
       "2              8  8  0  0  0     codemaster_glove_05.AICodemaster   \n",
       "3              8  8  0  0  0       codemaster_wn_lin.AICodemaster   \n",
       "4             25  7  6  9  1     codemaster_glove_05.AICodemaster   \n",
       "..           ... .. .. .. ..                                  ...   \n",
       "127           25  5  4  8  1       codemaster_random.AICodemaster   \n",
       "128           25  4  2  3  1  codemaster_w2vglove_05.AICodemaster   \n",
       "129           25  6  3  3  1       codemaster_w2v_05.AICodemaster   \n",
       "130           25  5  4  7  1       codemaster_random.AICodemaster   \n",
       "131           25  6  4  6  1       codemaster_w2v_05.AICodemaster   \n",
       "\n",
       "                          guesser          seed        time_s  \n",
       "0      guesser_w2vglove.AIGuesser  1.653947e+09  1.653947e+09  \n",
       "1         guesser_glove.AIGuesser  1.653947e+09  1.653947e+09  \n",
       "2    vector_guesser.VectorGuesser  1.653947e+09  1.653947e+09  \n",
       "3        guesser_wn_jcn.AIGuesser  1.653947e+09  1.653947e+09  \n",
       "4        guesser_wn_jcn.AIGuesser  1.653947e+09  1.653947e+09  \n",
       "..                            ...           ...           ...  \n",
       "127  vector_guesser.VectorGuesser  1.653970e+09  1.653970e+09  \n",
       "128      guesser_wn_wup.AIGuesser  1.653970e+09  1.653970e+09  \n",
       "129      guesser_wn_lch.AIGuesser  1.653972e+09  1.653972e+09  \n",
       "130      guesser_wn_lin.AIGuesser  1.653972e+09  1.653972e+09  \n",
       "131      guesser_wn_res.AIGuesser  1.653972e+09  1.653972e+09  \n",
       "\n",
       "[132 rows x 9 columns]"
      ]
     },
     "execution_count": 2,
     "metadata": {},
     "output_type": "execute_result"
    }
   ],
   "source": [
    "vals = [json.loads(line) for line in open('results/bot_results_new_style.txt')]\n",
    "df = pd.DataFrame(vals)\n",
    "\n",
    "df = df.assign(\n",
    "    guesser = lambda dataframe: dataframe['guesser'].map(lambda guesser: guesser[guesser.index('.')+1:-2]),\n",
    "    codemaster = lambda dataframe: dataframe['codemaster'].map(lambda codemaster: codemaster[codemaster.index('.')+1:-2])\n",
    "\n",
    ").drop('cm_kwargs', axis=1).drop('g_kwargs', axis=1).drop('game_name',axis=1)\n",
    "print(\"Average turns for 8 tiles: \",df['total_turns'].mean())\n",
    "\n",
    "df"
   ]
  },
  {
   "cell_type": "code",
   "execution_count": 3,
   "metadata": {},
   "outputs": [
    {
     "data": {
      "text/plain": [
       "guesser\n",
       "guesser_glove.AIGuesser         13.416667\n",
       "guesser_random.AIGuesser        25.000000\n",
       "guesser_w2v.AIGuesser           20.100000\n",
       "guesser_w2vglove.AIGuesser      13.083333\n",
       "guesser_wn_jcn.AIGuesser        20.363636\n",
       "guesser_wn_lch.AIGuesser        21.153846\n",
       "guesser_wn_lin.AIGuesser        21.181818\n",
       "guesser_wn_path.AIGuesser       21.153846\n",
       "guesser_wn_res.AIGuesser        21.000000\n",
       "guesser_wn_wup.AIGuesser        20.000000\n",
       "vector_guesser.VectorGuesser    14.071429\n",
       "Name: total_turns, dtype: float64"
      ]
     },
     "execution_count": 3,
     "metadata": {},
     "output_type": "execute_result"
    }
   ],
   "source": [
    "df.groupby('guesser')['total_turns'].mean()"
   ]
  },
  {
   "cell_type": "code",
   "execution_count": 4,
   "metadata": {},
   "outputs": [
    {
     "data": {
      "text/plain": [
       "codemaster\n",
       "codemaster.HumanCodemaster             20.000000\n",
       "codemaster_glove_05.AICodemaster       18.310345\n",
       "codemaster_glove_07.AICodemaster        9.000000\n",
       "codemaster_random.AICodemaster         24.120000\n",
       "codemaster_w2v_05.AICodemaster         18.384615\n",
       "codemaster_w2vglove_05.AICodemaster    18.153846\n",
       "codemaster_wn_lin.AICodemaster         16.818182\n",
       "Name: total_turns, dtype: float64"
      ]
     },
     "execution_count": 4,
     "metadata": {},
     "output_type": "execute_result"
    }
   ],
   "source": [
    "df.groupby('codemaster')['total_turns'].mean()"
   ]
  },
  {
   "cell_type": "code",
   "execution_count": 5,
   "metadata": {},
   "outputs": [
    {
     "data": {
      "text/plain": [
       "<AxesSubplot:xlabel='codemaster'>"
      ]
     },
     "execution_count": 5,
     "metadata": {},
     "output_type": "execute_result"
    },
    {
     "data": {
      "image/png": "[encoded data removed]",
      "text/plain": [
       "<Figure size 432x288 with 1 Axes>"
      ]
     },
     "metadata": {
      "needs_background": "light"
     },
     "output_type": "display_data"
    }
   ],
   "source": [
    "df.groupby('codemaster')['total_turns'].mean().plot.bar(x='codemaster', y='total_turns', rot=90)\n"
   ]
  },
  {
   "cell_type": "code",
   "execution_count": 6,
   "metadata": {},
   "outputs": [
    {
     "data": {
      "text/plain": [
       "<AxesSubplot:xlabel='guesser'>"
      ]
     },
     "execution_count": 6,
     "metadata": {},
     "output_type": "execute_result"
    },
    {
     "data": {
      "image/png": "[encoded data removed]",
      "text/plain": [
       "<Figure size 432x288 with 1 Axes>"
      ]
     },
     "metadata": {
      "needs_background": "light"
     },
     "output_type": "display_data"
    }
   ],
   "source": [
    "df.groupby('guesser')['total_turns'].mean().plot.bar(x='guesser', y='total_turns', rot=90)\n"
   ]
  },
  {
   "cell_type": "code",
   "execution_count": null,
   "metadata": {},
   "outputs": [],
   "source": []
  }
 ],
 "metadata": {
  "interpreter": {
   "hash": "12496bd693f446b8e671354f311e39a3ffbb5bb0a364bacb51523b94b30c4e91"
  },
  "kernelspec": {
   "display_name": "Python 3.7.0 64-bit ('3.7.0')",
   "language": "python",
   "name": "python3"
  },
  "language_info": {
   "codemirror_mode": {
    "name": "ipython",
    "version": 3
   },
   "file_extension": ".py",
   "mimetype": "text/x-python",
   "name": "python",
   "nbconvert_exporter": "python",
   "pygments_lexer": "ipython3",
   "version": "3.7.0"
  },
  "orig_nbformat": 4
 },
 "nbformat": 4,
 "nbformat_minor": 2
}
