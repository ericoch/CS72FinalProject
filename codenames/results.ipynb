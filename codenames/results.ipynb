{
 "cells": [
  {
   "cell_type": "code",
   "execution_count": 1,
   "metadata": {},
   "outputs": [],
   "source": [
    "import numpy as np\n",
    "import pandas as pd\n",
    "import json\n",
    "import matplotlib.pyplot as plt"
   ]
  },
  {
   "cell_type": "code",
   "execution_count": 2,
   "metadata": {},
   "outputs": [
    {
     "name": "stdout",
     "output_type": "stream",
     "text": [
      "Average turns for 8 tiles:  7.030769230769231\n"
     ]
    },
    {
     "data": {
      "text/html": [
       "<div>\n",
       "<style scoped>\n",
       "    .dataframe tbody tr th:only-of-type {\n",
       "        vertical-align: middle;\n",
       "    }\n",
       "\n",
       "    .dataframe tbody tr th {\n",
       "        vertical-align: top;\n",
       "    }\n",
       "\n",
       "    .dataframe thead th {\n",
       "        text-align: right;\n",
       "    }\n",
       "</style>\n",
       "<table border=\"1\" class=\"dataframe\">\n",
       "  <thead>\n",
       "    <tr style=\"text-align: right;\">\n",
       "      <th></th>\n",
       "      <th>total_turns</th>\n",
       "      <th>R</th>\n",
       "      <th>B</th>\n",
       "      <th>C</th>\n",
       "      <th>A</th>\n",
       "      <th>codemaster</th>\n",
       "      <th>guesser</th>\n",
       "      <th>seed</th>\n",
       "      <th>time_s</th>\n",
       "    </tr>\n",
       "  </thead>\n",
       "  <tbody>\n",
       "    <tr>\n",
       "      <th>0</th>\n",
       "      <td>7</td>\n",
       "      <td>8</td>\n",
       "      <td>0</td>\n",
       "      <td>1</td>\n",
       "      <td>0</td>\n",
       "      <td>codemaster_w2v_07.AICodemaster</td>\n",
       "      <td>guesser_w2vglove.AIGuesser</td>\n",
       "      <td>150</td>\n",
       "      <td>1.653886e+09</td>\n",
       "    </tr>\n",
       "    <tr>\n",
       "      <th>1</th>\n",
       "      <td>9</td>\n",
       "      <td>8</td>\n",
       "      <td>0</td>\n",
       "      <td>1</td>\n",
       "      <td>0</td>\n",
       "      <td>codemaster_w2v_03.AICodemaster</td>\n",
       "      <td>guesser_w2vglove.AIGuesser</td>\n",
       "      <td>100</td>\n",
       "      <td>1.653886e+09</td>\n",
       "    </tr>\n",
       "    <tr>\n",
       "      <th>2</th>\n",
       "      <td>8</td>\n",
       "      <td>8</td>\n",
       "      <td>0</td>\n",
       "      <td>0</td>\n",
       "      <td>0</td>\n",
       "      <td>codemaster_glove_05.AICodemaster</td>\n",
       "      <td>guesser_w2vglove.AIGuesser</td>\n",
       "      <td>200</td>\n",
       "      <td>1.653886e+09</td>\n",
       "    </tr>\n",
       "    <tr>\n",
       "      <th>3</th>\n",
       "      <td>8</td>\n",
       "      <td>8</td>\n",
       "      <td>0</td>\n",
       "      <td>0</td>\n",
       "      <td>0</td>\n",
       "      <td>codemaster_w2v_03.AICodemaster</td>\n",
       "      <td>guesser_w2vglove.AIGuesser</td>\n",
       "      <td>150</td>\n",
       "      <td>1.653886e+09</td>\n",
       "    </tr>\n",
       "    <tr>\n",
       "      <th>4</th>\n",
       "      <td>10</td>\n",
       "      <td>8</td>\n",
       "      <td>1</td>\n",
       "      <td>3</td>\n",
       "      <td>0</td>\n",
       "      <td>codemaster_w2v_07.AICodemaster</td>\n",
       "      <td>guesser_w2vglove.AIGuesser</td>\n",
       "      <td>200</td>\n",
       "      <td>1.653886e+09</td>\n",
       "    </tr>\n",
       "    <tr>\n",
       "      <th>...</th>\n",
       "      <td>...</td>\n",
       "      <td>...</td>\n",
       "      <td>...</td>\n",
       "      <td>...</td>\n",
       "      <td>...</td>\n",
       "      <td>...</td>\n",
       "      <td>...</td>\n",
       "      <td>...</td>\n",
       "      <td>...</td>\n",
       "    </tr>\n",
       "    <tr>\n",
       "      <th>255</th>\n",
       "      <td>9</td>\n",
       "      <td>8</td>\n",
       "      <td>1</td>\n",
       "      <td>0</td>\n",
       "      <td>0</td>\n",
       "      <td>codemaster_w2vglove_03.AICodemaster</td>\n",
       "      <td>guesser_w2vglove.AIGuesser</td>\n",
       "      <td>450</td>\n",
       "      <td>1.653910e+09</td>\n",
       "    </tr>\n",
       "    <tr>\n",
       "      <th>256</th>\n",
       "      <td>6</td>\n",
       "      <td>8</td>\n",
       "      <td>0</td>\n",
       "      <td>0</td>\n",
       "      <td>0</td>\n",
       "      <td>codemaster_w2vglove_05.AICodemaster</td>\n",
       "      <td>guesser_w2vglove.AIGuesser</td>\n",
       "      <td>500</td>\n",
       "      <td>1.653910e+09</td>\n",
       "    </tr>\n",
       "    <tr>\n",
       "      <th>257</th>\n",
       "      <td>8</td>\n",
       "      <td>8</td>\n",
       "      <td>0</td>\n",
       "      <td>0</td>\n",
       "      <td>0</td>\n",
       "      <td>codemaster_w2vglove_03.AICodemaster</td>\n",
       "      <td>guesser_w2vglove.AIGuesser</td>\n",
       "      <td>500</td>\n",
       "      <td>1.653910e+09</td>\n",
       "    </tr>\n",
       "    <tr>\n",
       "      <th>258</th>\n",
       "      <td>8</td>\n",
       "      <td>8</td>\n",
       "      <td>0</td>\n",
       "      <td>0</td>\n",
       "      <td>0</td>\n",
       "      <td>codemaster_w2vglove_03.AICodemaster</td>\n",
       "      <td>guesser_w2vglove.AIGuesser</td>\n",
       "      <td>550</td>\n",
       "      <td>1.653911e+09</td>\n",
       "    </tr>\n",
       "    <tr>\n",
       "      <th>259</th>\n",
       "      <td>5</td>\n",
       "      <td>8</td>\n",
       "      <td>0</td>\n",
       "      <td>0</td>\n",
       "      <td>0</td>\n",
       "      <td>codemaster_w2vglove_05.AICodemaster</td>\n",
       "      <td>guesser_w2vglove.AIGuesser</td>\n",
       "      <td>250</td>\n",
       "      <td>1.653911e+09</td>\n",
       "    </tr>\n",
       "  </tbody>\n",
       "</table>\n",
       "<p>260 rows × 9 columns</p>\n",
       "</div>"
      ],
      "text/plain": [
       "     total_turns  R  B  C  A                           codemaster  \\\n",
       "0              7  8  0  1  0       codemaster_w2v_07.AICodemaster   \n",
       "1              9  8  0  1  0       codemaster_w2v_03.AICodemaster   \n",
       "2              8  8  0  0  0     codemaster_glove_05.AICodemaster   \n",
       "3              8  8  0  0  0       codemaster_w2v_03.AICodemaster   \n",
       "4             10  8  1  3  0       codemaster_w2v_07.AICodemaster   \n",
       "..           ... .. .. .. ..                                  ...   \n",
       "255            9  8  1  0  0  codemaster_w2vglove_03.AICodemaster   \n",
       "256            6  8  0  0  0  codemaster_w2vglove_05.AICodemaster   \n",
       "257            8  8  0  0  0  codemaster_w2vglove_03.AICodemaster   \n",
       "258            8  8  0  0  0  codemaster_w2vglove_03.AICodemaster   \n",
       "259            5  8  0  0  0  codemaster_w2vglove_05.AICodemaster   \n",
       "\n",
       "                        guesser  seed        time_s  \n",
       "0    guesser_w2vglove.AIGuesser   150  1.653886e+09  \n",
       "1    guesser_w2vglove.AIGuesser   100  1.653886e+09  \n",
       "2    guesser_w2vglove.AIGuesser   200  1.653886e+09  \n",
       "3    guesser_w2vglove.AIGuesser   150  1.653886e+09  \n",
       "4    guesser_w2vglove.AIGuesser   200  1.653886e+09  \n",
       "..                          ...   ...           ...  \n",
       "255  guesser_w2vglove.AIGuesser   450  1.653910e+09  \n",
       "256  guesser_w2vglove.AIGuesser   500  1.653910e+09  \n",
       "257  guesser_w2vglove.AIGuesser   500  1.653910e+09  \n",
       "258  guesser_w2vglove.AIGuesser   550  1.653911e+09  \n",
       "259  guesser_w2vglove.AIGuesser   250  1.653911e+09  \n",
       "\n",
       "[260 rows x 9 columns]"
      ]
     },
     "execution_count": 2,
     "metadata": {},
     "output_type": "execute_result"
    }
   ],
   "source": [
    "vals = [json.loads(line) for line in open('results/bot_results_new_style.txt')]\n",
    "df = pd.DataFrame(vals)\n",
    "\n",
    "df = df.assign(\n",
    "    guesser = lambda dataframe: dataframe['guesser'].map(lambda guesser: guesser[guesser.index('.')+1:-2]),\n",
    "    codemaster = lambda dataframe: dataframe['codemaster'].map(lambda codemaster: codemaster[codemaster.index('.')+1:-2])\n",
    "\n",
    ").drop('cm_kwargs', axis=1).drop('g_kwargs', axis=1).drop('game_name',axis=1)\n",
    "print(\"Average turns for 8 tiles: \",df['total_turns'].mean())\n",
    "\n",
    "df"
   ]
  },
  {
   "cell_type": "code",
   "execution_count": 3,
   "metadata": {},
   "outputs": [
    {
     "data": {
      "text/plain": [
       "guesser\n",
       "guesser_w2vglove.AIGuesser    7.030769\n",
       "Name: total_turns, dtype: float64"
      ]
     },
     "execution_count": 3,
     "metadata": {},
     "output_type": "execute_result"
    }
   ],
   "source": [
    "df.groupby('guesser')['total_turns'].mean()"
   ]
  },
  {
   "cell_type": "code",
   "execution_count": 4,
   "metadata": {},
   "outputs": [
    {
     "data": {
      "text/plain": [
       "codemaster\n",
       "codemaster_glove_03.AICodemaster       8.175000\n",
       "codemaster_glove_05.AICodemaster       7.075000\n",
       "codemaster_glove_07.AICodemaster       5.200000\n",
       "codemaster_w2v_03.AICodemaster         8.700000\n",
       "codemaster_w2v_05.AICodemaster         8.600000\n",
       "codemaster_w2v_07.AICodemaster         9.400000\n",
       "codemaster_w2vglove_03.AICodemaster    8.150000\n",
       "codemaster_w2vglove_05.AICodemaster    7.075000\n",
       "codemaster_w2vglove_07.AICodemaster    4.466667\n",
       "Name: total_turns, dtype: float64"
      ]
     },
     "execution_count": 4,
     "metadata": {},
     "output_type": "execute_result"
    }
   ],
   "source": [
    "df.groupby('codemaster')['total_turns'].mean()"
   ]
  },
  {
   "cell_type": "code",
   "execution_count": 5,
   "metadata": {},
   "outputs": [
    {
     "data": {
      "text/plain": [
       "<AxesSubplot:xlabel='codemaster'>"
      ]
     },
     "execution_count": 5,
     "metadata": {},
     "output_type": "execute_result"
    },
    {
     "data": {
      "image/png": "[encoded data removed]",
      "text/plain": [
       "<Figure size 432x288 with 1 Axes>"
      ]
     },
     "metadata": {
      "needs_background": "light"
     },
     "output_type": "display_data"
    }
   ],
   "source": [
    "df.groupby('codemaster')['total_turns'].mean().plot.bar(x='codemaster', y='total_turns', rot=90)\n"
   ]
  },
  {
   "cell_type": "code",
   "execution_count": 7,
   "metadata": {},
   "outputs": [
    {
     "data": {
      "text/plain": [
       "<AxesSubplot:xlabel='guesser'>"
      ]
     },
     "execution_count": 7,
     "metadata": {},
     "output_type": "execute_result"
    },
    {
     "data": {
      "image/png": "[encoded data removed]",
      "text/plain": [
       "<Figure size 432x288 with 1 Axes>"
      ]
     },
     "metadata": {
      "needs_background": "light"
     },
     "output_type": "display_data"
    }
   ],
   "source": [
    "df.groupby('guesser')['total_turns'].mean().plot.bar(x='guesser', y='total_turns', rot=90)\n"
   ]
  },
  {
   "cell_type": "code",
   "execution_count": null,
   "metadata": {},
   "outputs": [],
   "source": []
  }
 ],
 "metadata": {
  "interpreter": {
   "hash": "0553d1597b8ce1a3eb3668c2cba7d2f635087b343fd5aa45722856185fb5a9d9"
  },
  "kernelspec": {
   "display_name": "Python 3.7.0 64-bit ('shims': pyenv)",
   "language": "python",
   "name": "python3"
  },
  "language_info": {
   "codemirror_mode": {
    "name": "ipython",
    "version": 3
   },
   "file_extension": ".py",
   "mimetype": "text/x-python",
   "name": "python",
   "nbconvert_exporter": "python",
   "pygments_lexer": "ipython3",
   "version": "3.7.2"
  },
  "orig_nbformat": 4
 },
 "nbformat": 4,
 "nbformat_minor": 2
}
