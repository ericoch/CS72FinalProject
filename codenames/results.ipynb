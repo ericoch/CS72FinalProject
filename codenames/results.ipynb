{
 "cells": [
  {
   "cell_type": "code",
   "execution_count": 5,
   "metadata": {},
   "outputs": [
    {
     "ename": "ValueError",
     "evalue": "numpy.ufunc size changed, may indicate binary incompatibility. Expected 216 from C header, got 192 from PyObject",
     "output_type": "error",
     "traceback": [
      "\u001b[0;31m---------------------------------------------------------------------------\u001b[0m",
      "\u001b[0;31mValueError\u001b[0m                                Traceback (most recent call last)",
      "\u001b[0;32m/var/folders/l2/ts0m5xln6l7cq5x5m1cc84lc0000gn/T/ipykernel_31190/2821837586.py\u001b[0m in \u001b[0;36m<module>\u001b[0;34m\u001b[0m\n\u001b[0;32m----> 1\u001b[0;31m \u001b[0;32mimport\u001b[0m \u001b[0mpandas\u001b[0m \u001b[0;32mas\u001b[0m \u001b[0mpd\u001b[0m\u001b[0;34m\u001b[0m\u001b[0;34m\u001b[0m\u001b[0m\n\u001b[0m\u001b[1;32m      2\u001b[0m \u001b[0;32mimport\u001b[0m \u001b[0mjson\u001b[0m\u001b[0;34m\u001b[0m\u001b[0;34m\u001b[0m\u001b[0m\n\u001b[1;32m      3\u001b[0m \u001b[0;32mimport\u001b[0m \u001b[0mmatplotlib\u001b[0m\u001b[0;34m.\u001b[0m\u001b[0mpyplot\u001b[0m \u001b[0;32mas\u001b[0m \u001b[0mplt\u001b[0m\u001b[0;34m\u001b[0m\u001b[0;34m\u001b[0m\u001b[0m\n",
      "\u001b[0;32m~/.pyenv/versions/3.7.2/lib/python3.7/site-packages/pandas/__init__.py\u001b[0m in \u001b[0;36m<module>\u001b[0;34m\u001b[0m\n\u001b[1;32m     20\u001b[0m \u001b[0;34m\u001b[0m\u001b[0m\n\u001b[1;32m     21\u001b[0m \u001b[0;31m# numpy compat\u001b[0m\u001b[0;34m\u001b[0m\u001b[0;34m\u001b[0m\u001b[0;34m\u001b[0m\u001b[0m\n\u001b[0;32m---> 22\u001b[0;31m from pandas.compat import (\n\u001b[0m\u001b[1;32m     23\u001b[0m     \u001b[0mnp_version_under1p18\u001b[0m \u001b[0;32mas\u001b[0m \u001b[0m_np_version_under1p18\u001b[0m\u001b[0;34m,\u001b[0m\u001b[0;34m\u001b[0m\u001b[0;34m\u001b[0m\u001b[0m\n\u001b[1;32m     24\u001b[0m     \u001b[0mis_numpy_dev\u001b[0m \u001b[0;32mas\u001b[0m \u001b[0m_is_numpy_dev\u001b[0m\u001b[0;34m,\u001b[0m\u001b[0;34m\u001b[0m\u001b[0;34m\u001b[0m\u001b[0m\n",
      "\u001b[0;32m~/.pyenv/versions/3.7.2/lib/python3.7/site-packages/pandas/compat/__init__.py\u001b[0m in \u001b[0;36m<module>\u001b[0;34m\u001b[0m\n\u001b[1;32m     13\u001b[0m \u001b[0;34m\u001b[0m\u001b[0m\n\u001b[1;32m     14\u001b[0m \u001b[0;32mfrom\u001b[0m \u001b[0mpandas\u001b[0m\u001b[0;34m.\u001b[0m\u001b[0m_typing\u001b[0m \u001b[0;32mimport\u001b[0m \u001b[0mF\u001b[0m\u001b[0;34m\u001b[0m\u001b[0;34m\u001b[0m\u001b[0m\n\u001b[0;32m---> 15\u001b[0;31m from pandas.compat.numpy import (\n\u001b[0m\u001b[1;32m     16\u001b[0m     \u001b[0mis_numpy_dev\u001b[0m\u001b[0;34m,\u001b[0m\u001b[0;34m\u001b[0m\u001b[0;34m\u001b[0m\u001b[0m\n\u001b[1;32m     17\u001b[0m     \u001b[0mnp_array_datetime64_compat\u001b[0m\u001b[0;34m,\u001b[0m\u001b[0;34m\u001b[0m\u001b[0;34m\u001b[0m\u001b[0m\n",
      "\u001b[0;32m~/.pyenv/versions/3.7.2/lib/python3.7/site-packages/pandas/compat/numpy/__init__.py\u001b[0m in \u001b[0;36m<module>\u001b[0;34m\u001b[0m\n\u001b[1;32m      5\u001b[0m \u001b[0;32mimport\u001b[0m \u001b[0mnumpy\u001b[0m \u001b[0;32mas\u001b[0m \u001b[0mnp\u001b[0m\u001b[0;34m\u001b[0m\u001b[0;34m\u001b[0m\u001b[0m\n\u001b[1;32m      6\u001b[0m \u001b[0;34m\u001b[0m\u001b[0m\n\u001b[0;32m----> 7\u001b[0;31m \u001b[0;32mfrom\u001b[0m \u001b[0mpandas\u001b[0m\u001b[0;34m.\u001b[0m\u001b[0mutil\u001b[0m\u001b[0;34m.\u001b[0m\u001b[0mversion\u001b[0m \u001b[0;32mimport\u001b[0m \u001b[0mVersion\u001b[0m\u001b[0;34m\u001b[0m\u001b[0;34m\u001b[0m\u001b[0m\n\u001b[0m\u001b[1;32m      8\u001b[0m \u001b[0;34m\u001b[0m\u001b[0m\n\u001b[1;32m      9\u001b[0m \u001b[0;31m# numpy versioning\u001b[0m\u001b[0;34m\u001b[0m\u001b[0;34m\u001b[0m\u001b[0;34m\u001b[0m\u001b[0m\n",
      "\u001b[0;32m~/.pyenv/versions/3.7.2/lib/python3.7/site-packages/pandas/util/__init__.py\u001b[0m in \u001b[0;36m<module>\u001b[0;34m\u001b[0m\n\u001b[0;32m----> 1\u001b[0;31m from pandas.util._decorators import (  # noqa\n\u001b[0m\u001b[1;32m      2\u001b[0m     \u001b[0mAppender\u001b[0m\u001b[0;34m,\u001b[0m\u001b[0;34m\u001b[0m\u001b[0;34m\u001b[0m\u001b[0m\n\u001b[1;32m      3\u001b[0m     \u001b[0mSubstitution\u001b[0m\u001b[0;34m,\u001b[0m\u001b[0;34m\u001b[0m\u001b[0;34m\u001b[0m\u001b[0m\n\u001b[1;32m      4\u001b[0m     \u001b[0mcache_readonly\u001b[0m\u001b[0;34m,\u001b[0m\u001b[0;34m\u001b[0m\u001b[0;34m\u001b[0m\u001b[0m\n\u001b[1;32m      5\u001b[0m )\n",
      "\u001b[0;32m~/.pyenv/versions/3.7.2/lib/python3.7/site-packages/pandas/util/_decorators.py\u001b[0m in \u001b[0;36m<module>\u001b[0;34m\u001b[0m\n\u001b[1;32m     12\u001b[0m \u001b[0;32mimport\u001b[0m \u001b[0mwarnings\u001b[0m\u001b[0;34m\u001b[0m\u001b[0;34m\u001b[0m\u001b[0m\n\u001b[1;32m     13\u001b[0m \u001b[0;34m\u001b[0m\u001b[0m\n\u001b[0;32m---> 14\u001b[0;31m \u001b[0;32mfrom\u001b[0m \u001b[0mpandas\u001b[0m\u001b[0;34m.\u001b[0m\u001b[0m_libs\u001b[0m\u001b[0;34m.\u001b[0m\u001b[0mproperties\u001b[0m \u001b[0;32mimport\u001b[0m \u001b[0mcache_readonly\u001b[0m  \u001b[0;31m# noqa\u001b[0m\u001b[0;34m\u001b[0m\u001b[0;34m\u001b[0m\u001b[0m\n\u001b[0m\u001b[1;32m     15\u001b[0m \u001b[0;32mfrom\u001b[0m \u001b[0mpandas\u001b[0m\u001b[0;34m.\u001b[0m\u001b[0m_typing\u001b[0m \u001b[0;32mimport\u001b[0m \u001b[0mF\u001b[0m\u001b[0;34m\u001b[0m\u001b[0;34m\u001b[0m\u001b[0m\n\u001b[1;32m     16\u001b[0m \u001b[0;34m\u001b[0m\u001b[0m\n",
      "\u001b[0;32m~/.pyenv/versions/3.7.2/lib/python3.7/site-packages/pandas/_libs/__init__.py\u001b[0m in \u001b[0;36m<module>\u001b[0;34m\u001b[0m\n\u001b[1;32m     11\u001b[0m \u001b[0;34m\u001b[0m\u001b[0m\n\u001b[1;32m     12\u001b[0m \u001b[0;34m\u001b[0m\u001b[0m\n\u001b[0;32m---> 13\u001b[0;31m \u001b[0;32mfrom\u001b[0m \u001b[0mpandas\u001b[0m\u001b[0;34m.\u001b[0m\u001b[0m_libs\u001b[0m\u001b[0;34m.\u001b[0m\u001b[0minterval\u001b[0m \u001b[0;32mimport\u001b[0m \u001b[0mInterval\u001b[0m\u001b[0;34m\u001b[0m\u001b[0;34m\u001b[0m\u001b[0m\n\u001b[0m\u001b[1;32m     14\u001b[0m from pandas._libs.tslibs import (\n\u001b[1;32m     15\u001b[0m     \u001b[0mNaT\u001b[0m\u001b[0;34m,\u001b[0m\u001b[0;34m\u001b[0m\u001b[0;34m\u001b[0m\u001b[0m\n",
      "\u001b[0;32m~/.pyenv/versions/3.7.2/lib/python3.7/site-packages/pandas/_libs/interval.pyx\u001b[0m in \u001b[0;36minit pandas._libs.interval\u001b[0;34m()\u001b[0m\n",
      "\u001b[0;31mValueError\u001b[0m: numpy.ufunc size changed, may indicate binary incompatibility. Expected 216 from C header, got 192 from PyObject"
     ]
    }
   ],
   "source": [
    "import pandas as pd\n",
    "import json\n",
    "import matplotlib.pyplot as plt"
   ]
  },
  {
   "cell_type": "code",
   "execution_count": null,
   "metadata": {},
   "outputs": [
    {
     "name": "stdout",
     "output_type": "stream",
     "text": [
      "Average turns for 8 tiles:  19.352941176470587\n"
     ]
    },
    {
     "data": {
      "text/html": [
       "<div>\n",
       "<style scoped>\n",
       "    .dataframe tbody tr th:only-of-type {\n",
       "        vertical-align: middle;\n",
       "    }\n",
       "\n",
       "    .dataframe tbody tr th {\n",
       "        vertical-align: top;\n",
       "    }\n",
       "\n",
       "    .dataframe thead th {\n",
       "        text-align: right;\n",
       "    }\n",
       "</style>\n",
       "<table border=\"1\" class=\"dataframe\">\n",
       "  <thead>\n",
       "    <tr style=\"text-align: right;\">\n",
       "      <th></th>\n",
       "      <th>total_turns</th>\n",
       "      <th>R</th>\n",
       "      <th>B</th>\n",
       "      <th>C</th>\n",
       "      <th>A</th>\n",
       "      <th>codemaster</th>\n",
       "      <th>guesser</th>\n",
       "      <th>seed</th>\n",
       "      <th>time_s</th>\n",
       "    </tr>\n",
       "  </thead>\n",
       "  <tbody>\n",
       "    <tr>\n",
       "      <th>0</th>\n",
       "      <td>25</td>\n",
       "      <td>2</td>\n",
       "      <td>0</td>\n",
       "      <td>0</td>\n",
       "      <td>1</td>\n",
       "      <td>codemaster_wn_lin.AICodemaster</td>\n",
       "      <td>guesser_w2vglove.AIGuesser</td>\n",
       "      <td>1.653947e+09</td>\n",
       "      <td>1.653947e+09</td>\n",
       "    </tr>\n",
       "    <tr>\n",
       "      <th>1</th>\n",
       "      <td>8</td>\n",
       "      <td>8</td>\n",
       "      <td>0</td>\n",
       "      <td>0</td>\n",
       "      <td>0</td>\n",
       "      <td>codemaster_w2vglove_05.AICodemaster</td>\n",
       "      <td>guesser_glove.AIGuesser</td>\n",
       "      <td>1.653947e+09</td>\n",
       "      <td>1.653947e+09</td>\n",
       "    </tr>\n",
       "    <tr>\n",
       "      <th>2</th>\n",
       "      <td>8</td>\n",
       "      <td>8</td>\n",
       "      <td>0</td>\n",
       "      <td>0</td>\n",
       "      <td>0</td>\n",
       "      <td>codemaster_glove_05.AICodemaster</td>\n",
       "      <td>vector_guesser.VectorGuesser</td>\n",
       "      <td>1.653947e+09</td>\n",
       "      <td>1.653947e+09</td>\n",
       "    </tr>\n",
       "    <tr>\n",
       "      <th>3</th>\n",
       "      <td>8</td>\n",
       "      <td>8</td>\n",
       "      <td>0</td>\n",
       "      <td>0</td>\n",
       "      <td>0</td>\n",
       "      <td>codemaster_wn_lin.AICodemaster</td>\n",
       "      <td>guesser_wn_jcn.AIGuesser</td>\n",
       "      <td>1.653947e+09</td>\n",
       "      <td>1.653947e+09</td>\n",
       "    </tr>\n",
       "    <tr>\n",
       "      <th>4</th>\n",
       "      <td>25</td>\n",
       "      <td>7</td>\n",
       "      <td>6</td>\n",
       "      <td>9</td>\n",
       "      <td>1</td>\n",
       "      <td>codemaster_glove_05.AICodemaster</td>\n",
       "      <td>guesser_wn_jcn.AIGuesser</td>\n",
       "      <td>1.653947e+09</td>\n",
       "      <td>1.653947e+09</td>\n",
       "    </tr>\n",
       "    <tr>\n",
       "      <th>5</th>\n",
       "      <td>25</td>\n",
       "      <td>5</td>\n",
       "      <td>6</td>\n",
       "      <td>9</td>\n",
       "      <td>1</td>\n",
       "      <td>codemaster_glove_05.AICodemaster</td>\n",
       "      <td>guesser_wn_path.AIGuesser</td>\n",
       "      <td>1.653947e+09</td>\n",
       "      <td>1.653947e+09</td>\n",
       "    </tr>\n",
       "    <tr>\n",
       "      <th>6</th>\n",
       "      <td>7</td>\n",
       "      <td>8</td>\n",
       "      <td>0</td>\n",
       "      <td>0</td>\n",
       "      <td>0</td>\n",
       "      <td>codemaster_w2vglove_05.AICodemaster</td>\n",
       "      <td>guesser_w2vglove.AIGuesser</td>\n",
       "      <td>1.653947e+09</td>\n",
       "      <td>1.653948e+09</td>\n",
       "    </tr>\n",
       "    <tr>\n",
       "      <th>7</th>\n",
       "      <td>19</td>\n",
       "      <td>8</td>\n",
       "      <td>6</td>\n",
       "      <td>5</td>\n",
       "      <td>0</td>\n",
       "      <td>codemaster_w2v_05.AICodemaster</td>\n",
       "      <td>guesser_wn_lch.AIGuesser</td>\n",
       "      <td>1.653947e+09</td>\n",
       "      <td>1.653948e+09</td>\n",
       "    </tr>\n",
       "    <tr>\n",
       "      <th>8</th>\n",
       "      <td>25</td>\n",
       "      <td>2</td>\n",
       "      <td>4</td>\n",
       "      <td>2</td>\n",
       "      <td>1</td>\n",
       "      <td>codemaster_w2vglove_05.AICodemaster</td>\n",
       "      <td>guesser_wn_wup.AIGuesser</td>\n",
       "      <td>1.653947e+09</td>\n",
       "      <td>1.653948e+09</td>\n",
       "    </tr>\n",
       "    <tr>\n",
       "      <th>9</th>\n",
       "      <td>9</td>\n",
       "      <td>8</td>\n",
       "      <td>0</td>\n",
       "      <td>1</td>\n",
       "      <td>0</td>\n",
       "      <td>codemaster_glove_05.AICodemaster</td>\n",
       "      <td>guesser_w2vglove.AIGuesser</td>\n",
       "      <td>1.653948e+09</td>\n",
       "      <td>1.653948e+09</td>\n",
       "    </tr>\n",
       "    <tr>\n",
       "      <th>10</th>\n",
       "      <td>20</td>\n",
       "      <td>8</td>\n",
       "      <td>6</td>\n",
       "      <td>6</td>\n",
       "      <td>0</td>\n",
       "      <td>codemaster_w2v_05.AICodemaster</td>\n",
       "      <td>guesser_wn_lin.AIGuesser</td>\n",
       "      <td>1.653948e+09</td>\n",
       "      <td>1.653949e+09</td>\n",
       "    </tr>\n",
       "    <tr>\n",
       "      <th>11</th>\n",
       "      <td>25</td>\n",
       "      <td>4</td>\n",
       "      <td>4</td>\n",
       "      <td>3</td>\n",
       "      <td>1</td>\n",
       "      <td>codemaster_random.AICodemaster</td>\n",
       "      <td>guesser_random.AIGuesser</td>\n",
       "      <td>1.653949e+09</td>\n",
       "      <td>1.653949e+09</td>\n",
       "    </tr>\n",
       "    <tr>\n",
       "      <th>12</th>\n",
       "      <td>25</td>\n",
       "      <td>5</td>\n",
       "      <td>4</td>\n",
       "      <td>5</td>\n",
       "      <td>1</td>\n",
       "      <td>codemaster_random.AICodemaster</td>\n",
       "      <td>guesser_random.AIGuesser</td>\n",
       "      <td>1.653949e+09</td>\n",
       "      <td>1.653949e+09</td>\n",
       "    </tr>\n",
       "    <tr>\n",
       "      <th>13</th>\n",
       "      <td>25</td>\n",
       "      <td>4</td>\n",
       "      <td>5</td>\n",
       "      <td>6</td>\n",
       "      <td>1</td>\n",
       "      <td>codemaster_random.AICodemaster</td>\n",
       "      <td>guesser_random.AIGuesser</td>\n",
       "      <td>1.653949e+09</td>\n",
       "      <td>1.653949e+09</td>\n",
       "    </tr>\n",
       "    <tr>\n",
       "      <th>14</th>\n",
       "      <td>25</td>\n",
       "      <td>3</td>\n",
       "      <td>5</td>\n",
       "      <td>5</td>\n",
       "      <td>1</td>\n",
       "      <td>codemaster_random.AICodemaster</td>\n",
       "      <td>guesser_random.AIGuesser</td>\n",
       "      <td>1.653949e+09</td>\n",
       "      <td>1.653949e+09</td>\n",
       "    </tr>\n",
       "    <tr>\n",
       "      <th>15</th>\n",
       "      <td>25</td>\n",
       "      <td>4</td>\n",
       "      <td>7</td>\n",
       "      <td>4</td>\n",
       "      <td>0</td>\n",
       "      <td>codemaster_wn_lin.AICodemaster</td>\n",
       "      <td>vector_guesser.VectorGuesser</td>\n",
       "      <td>1.653948e+09</td>\n",
       "      <td>1.653949e+09</td>\n",
       "    </tr>\n",
       "    <tr>\n",
       "      <th>16</th>\n",
       "      <td>25</td>\n",
       "      <td>5</td>\n",
       "      <td>1</td>\n",
       "      <td>1</td>\n",
       "      <td>1</td>\n",
       "      <td>codemaster_wn_lin.AICodemaster</td>\n",
       "      <td>guesser_wn_res.AIGuesser</td>\n",
       "      <td>1.653948e+09</td>\n",
       "      <td>1.653949e+09</td>\n",
       "    </tr>\n",
       "  </tbody>\n",
       "</table>\n",
       "</div>"
      ],
      "text/plain": [
       "    total_turns  R  B  C  A                           codemaster  \\\n",
       "0            25  2  0  0  1       codemaster_wn_lin.AICodemaster   \n",
       "1             8  8  0  0  0  codemaster_w2vglove_05.AICodemaster   \n",
       "2             8  8  0  0  0     codemaster_glove_05.AICodemaster   \n",
       "3             8  8  0  0  0       codemaster_wn_lin.AICodemaster   \n",
       "4            25  7  6  9  1     codemaster_glove_05.AICodemaster   \n",
       "5            25  5  6  9  1     codemaster_glove_05.AICodemaster   \n",
       "6             7  8  0  0  0  codemaster_w2vglove_05.AICodemaster   \n",
       "7            19  8  6  5  0       codemaster_w2v_05.AICodemaster   \n",
       "8            25  2  4  2  1  codemaster_w2vglove_05.AICodemaster   \n",
       "9             9  8  0  1  0     codemaster_glove_05.AICodemaster   \n",
       "10           20  8  6  6  0       codemaster_w2v_05.AICodemaster   \n",
       "11           25  4  4  3  1       codemaster_random.AICodemaster   \n",
       "12           25  5  4  5  1       codemaster_random.AICodemaster   \n",
       "13           25  4  5  6  1       codemaster_random.AICodemaster   \n",
       "14           25  3  5  5  1       codemaster_random.AICodemaster   \n",
       "15           25  4  7  4  0       codemaster_wn_lin.AICodemaster   \n",
       "16           25  5  1  1  1       codemaster_wn_lin.AICodemaster   \n",
       "\n",
       "                         guesser          seed        time_s  \n",
       "0     guesser_w2vglove.AIGuesser  1.653947e+09  1.653947e+09  \n",
       "1        guesser_glove.AIGuesser  1.653947e+09  1.653947e+09  \n",
       "2   vector_guesser.VectorGuesser  1.653947e+09  1.653947e+09  \n",
       "3       guesser_wn_jcn.AIGuesser  1.653947e+09  1.653947e+09  \n",
       "4       guesser_wn_jcn.AIGuesser  1.653947e+09  1.653947e+09  \n",
       "5      guesser_wn_path.AIGuesser  1.653947e+09  1.653947e+09  \n",
       "6     guesser_w2vglove.AIGuesser  1.653947e+09  1.653948e+09  \n",
       "7       guesser_wn_lch.AIGuesser  1.653947e+09  1.653948e+09  \n",
       "8       guesser_wn_wup.AIGuesser  1.653947e+09  1.653948e+09  \n",
       "9     guesser_w2vglove.AIGuesser  1.653948e+09  1.653948e+09  \n",
       "10      guesser_wn_lin.AIGuesser  1.653948e+09  1.653949e+09  \n",
       "11      guesser_random.AIGuesser  1.653949e+09  1.653949e+09  \n",
       "12      guesser_random.AIGuesser  1.653949e+09  1.653949e+09  \n",
       "13      guesser_random.AIGuesser  1.653949e+09  1.653949e+09  \n",
       "14      guesser_random.AIGuesser  1.653949e+09  1.653949e+09  \n",
       "15  vector_guesser.VectorGuesser  1.653948e+09  1.653949e+09  \n",
       "16      guesser_wn_res.AIGuesser  1.653948e+09  1.653949e+09  "
      ]
     },
     "execution_count": 9,
     "metadata": {},
     "output_type": "execute_result"
    }
   ],
   "source": [
    "vals = [json.loads(line) for line in open('results/bot_results_new_style.txt')]\n",
    "df = pd.DataFrame(vals)\n",
    "\n",
    "df = df.assign(\n",
    "    guesser = lambda dataframe: dataframe['guesser'].map(lambda guesser: guesser[guesser.index('.')+1:-2]),\n",
    "    codemaster = lambda dataframe: dataframe['codemaster'].map(lambda codemaster: codemaster[codemaster.index('.')+1:-2])\n",
    "\n",
    ").drop('cm_kwargs', axis=1).drop('g_kwargs', axis=1).drop('game_name',axis=1)\n",
    "print(\"Average turns for 8 tiles: \",df['total_turns'].mean())\n",
    "\n",
    "df"
   ]
  },
  {
   "cell_type": "code",
   "execution_count": null,
   "metadata": {},
   "outputs": [
    {
     "data": {
      "text/plain": [
       "guesser\n",
       "guesser_glove.AIGuesser          8.000000\n",
       "guesser_random.AIGuesser        25.000000\n",
       "guesser_w2vglove.AIGuesser      13.666667\n",
       "guesser_wn_jcn.AIGuesser        16.500000\n",
       "guesser_wn_lch.AIGuesser        19.000000\n",
       "guesser_wn_lin.AIGuesser        20.000000\n",
       "guesser_wn_path.AIGuesser       25.000000\n",
       "guesser_wn_res.AIGuesser        25.000000\n",
       "guesser_wn_wup.AIGuesser        25.000000\n",
       "vector_guesser.VectorGuesser    16.500000\n",
       "Name: total_turns, dtype: float64"
      ]
     },
     "execution_count": 10,
     "metadata": {},
     "output_type": "execute_result"
    }
   ],
   "source": [
    "df.groupby('guesser')['total_turns'].mean()"
   ]
  },
  {
   "cell_type": "code",
   "execution_count": null,
   "metadata": {},
   "outputs": [
    {
     "data": {
      "text/plain": [
       "codemaster\n",
       "codemaster_glove_05.AICodemaster       16.750000\n",
       "codemaster_random.AICodemaster         25.000000\n",
       "codemaster_w2v_05.AICodemaster         19.500000\n",
       "codemaster_w2vglove_05.AICodemaster    13.333333\n",
       "codemaster_wn_lin.AICodemaster         20.750000\n",
       "Name: total_turns, dtype: float64"
      ]
     },
     "execution_count": 11,
     "metadata": {},
     "output_type": "execute_result"
    }
   ],
   "source": [
    "df.groupby('codemaster')['total_turns'].mean()"
   ]
  },
  {
   "cell_type": "code",
   "execution_count": null,
   "metadata": {},
   "outputs": [
    {
     "data": {
      "text/plain": [
       "<AxesSubplot:xlabel='codemaster'>"
      ]
     },
     "execution_count": 12,
     "metadata": {},
     "output_type": "execute_result"
    },
    {
     "data": {
      "image/png": "[encoded data removed]",
      "text/plain": [
       "<Figure size 432x288 with 1 Axes>"
      ]
     },
     "metadata": {
      "needs_background": "light"
     },
     "output_type": "display_data"
    }
   ],
   "source": [
    "df.groupby('codemaster')['total_turns'].mean().plot.bar(x='codemaster', y='total_turns', rot=90)\n"
   ]
  },
  {
   "cell_type": "code",
   "execution_count": null,
   "metadata": {},
   "outputs": [
    {
     "data": {
      "text/plain": [
       "<AxesSubplot:xlabel='guesser'>"
      ]
     },
     "execution_count": 13,
     "metadata": {},
     "output_type": "execute_result"
    },
    {
     "data": {
      "image/png": "[encoded data removed]",
      "text/plain": [
       "<Figure size 432x288 with 1 Axes>"
      ]
     },
     "metadata": {
      "needs_background": "light"
     },
     "output_type": "display_data"
    }
   ],
   "source": [
    "df.groupby('guesser')['total_turns'].mean().plot.bar(x='guesser', y='total_turns', rot=90)\n"
   ]
  },
  {
   "cell_type": "code",
   "execution_count": null,
   "metadata": {},
   "outputs": [],
   "source": []
  }
 ],
 "metadata": {
  "interpreter": {
   "hash": "0553d1597b8ce1a3eb3668c2cba7d2f635087b343fd5aa45722856185fb5a9d9"
  },
  "kernelspec": {
   "display_name": "Python 3.7.0 64-bit ('shims': pyenv)",
   "language": "python",
   "name": "python3"
  },
  "language_info": {
   "codemirror_mode": {
    "name": "ipython",
    "version": 3
   },
   "file_extension": ".py",
   "mimetype": "text/x-python",
   "name": "python",
   "nbconvert_exporter": "python",
   "pygments_lexer": "ipython3",
   "version": "3.7.2"
  },
  "orig_nbformat": 4
 },
 "nbformat": 4,
 "nbformat_minor": 2
}
